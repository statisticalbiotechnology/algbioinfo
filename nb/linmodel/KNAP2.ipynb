{
 "cells": [
  {
   "cell_type": "markdown",
   "metadata": {},
   "source": [
    "# KNAP2 gene analysis\n",
    "*Example from statomics* Data from https://doi.org/10.1093/jnci/djj052\n",
    "\n",
    "Histologic grade in breast cancer provides clinically important prognostic information. Researchers examined whether histologic grade was associated with gene expression profiles of breast cancers and whether such profiles could be used to improve histologic grading. In this tutorial we will assess the impact of histologic grade on expression of the KPNA2 gene that is known to be associated with poor BC prognosis. The patients, however, do not only differ in the histologic grade, but also on their lymph node status. The lymph nodes were not affected (0) or surgically removed (1)."
   ]
  },
  {
   "cell_type": "code",
   "execution_count": 1,
   "metadata": {},
   "outputs": [],
   "source": [
    "import pandas as pd\n",
    "import seaborn as sns\n",
    "import numpy as np\n",
    "from statsmodels.compat import urlopen\n",
    "\n",
    "try:\n",
    "    gene_table = pd.read_csv('brc.txt')\n",
    "except:  # recent pandas can read URL without urlopen\n",
    "    url = 'https://raw.githubusercontent.com/statOmics/statisticalGenomicsCourse/master/tutorial1/gse2990BreastcancerOneGene.txt'\n",
    "    fh = urlopen(url)\n",
    "    gene_table = pd.read_table(fh, sep=\" \")\n",
    "    gene_table.to_csv('brc.txt')"
   ]
  },
  {
   "cell_type": "code",
   "execution_count": 2,
   "metadata": {},
   "outputs": [
    {
     "data": {
      "text/html": [
       "<div>\n",
       "<style scoped>\n",
       "    .dataframe tbody tr th:only-of-type {\n",
       "        vertical-align: middle;\n",
       "    }\n",
       "\n",
       "    .dataframe tbody tr th {\n",
       "        vertical-align: top;\n",
       "    }\n",
       "\n",
       "    .dataframe thead th {\n",
       "        text-align: right;\n",
       "    }\n",
       "</style>\n",
       "<table border=\"1\" class=\"dataframe\">\n",
       "  <thead>\n",
       "    <tr style=\"text-align: right;\">\n",
       "      <th></th>\n",
       "      <th>sample_name</th>\n",
       "      <th>grade</th>\n",
       "      <th>node</th>\n",
       "      <th>size</th>\n",
       "      <th>age</th>\n",
       "      <th>gene</th>\n",
       "      <th>log_gene</th>\n",
       "    </tr>\n",
       "  </thead>\n",
       "  <tbody>\n",
       "    <tr>\n",
       "      <td>28</td>\n",
       "      <td>OXFT_2221</td>\n",
       "      <td>3</td>\n",
       "      <td>1</td>\n",
       "      <td>5.5</td>\n",
       "      <td>76</td>\n",
       "      <td>367.817935</td>\n",
       "      <td>5.907588</td>\n",
       "    </tr>\n",
       "    <tr>\n",
       "      <td>29</td>\n",
       "      <td>OXFT_209</td>\n",
       "      <td>3</td>\n",
       "      <td>1</td>\n",
       "      <td>2.5</td>\n",
       "      <td>66</td>\n",
       "      <td>590.357619</td>\n",
       "      <td>6.380728</td>\n",
       "    </tr>\n",
       "    <tr>\n",
       "      <td>30</td>\n",
       "      <td>OXFT_1769</td>\n",
       "      <td>1</td>\n",
       "      <td>1</td>\n",
       "      <td>3.5</td>\n",
       "      <td>86</td>\n",
       "      <td>346.658302</td>\n",
       "      <td>5.848340</td>\n",
       "    </tr>\n",
       "    <tr>\n",
       "      <td>33</td>\n",
       "      <td>OXFT_1770</td>\n",
       "      <td>1</td>\n",
       "      <td>1</td>\n",
       "      <td>1.7</td>\n",
       "      <td>69</td>\n",
       "      <td>258.445515</td>\n",
       "      <td>5.554685</td>\n",
       "    </tr>\n",
       "    <tr>\n",
       "      <td>34</td>\n",
       "      <td>OXFT_630</td>\n",
       "      <td>1</td>\n",
       "      <td>0</td>\n",
       "      <td>1.5</td>\n",
       "      <td>58</td>\n",
       "      <td>153.841583</td>\n",
       "      <td>5.035923</td>\n",
       "    </tr>\n",
       "    <tr>\n",
       "      <td>35</td>\n",
       "      <td>OXFT_1342</td>\n",
       "      <td>3</td>\n",
       "      <td>0</td>\n",
       "      <td>2.5</td>\n",
       "      <td>62</td>\n",
       "      <td>643.679906</td>\n",
       "      <td>6.467202</td>\n",
       "    </tr>\n",
       "    <tr>\n",
       "      <td>37</td>\n",
       "      <td>OXFT_2338</td>\n",
       "      <td>3</td>\n",
       "      <td>1</td>\n",
       "      <td>1.4</td>\n",
       "      <td>63</td>\n",
       "      <td>817.855820</td>\n",
       "      <td>6.706686</td>\n",
       "    </tr>\n",
       "    <tr>\n",
       "      <td>38</td>\n",
       "      <td>OXFT_2341</td>\n",
       "      <td>1</td>\n",
       "      <td>1</td>\n",
       "      <td>3.3</td>\n",
       "      <td>76</td>\n",
       "      <td>329.411333</td>\n",
       "      <td>5.797307</td>\n",
       "    </tr>\n",
       "    <tr>\n",
       "      <td>39</td>\n",
       "      <td>OXFT_1902</td>\n",
       "      <td>3</td>\n",
       "      <td>0</td>\n",
       "      <td>2.4</td>\n",
       "      <td>61</td>\n",
       "      <td>746.495081</td>\n",
       "      <td>6.615389</td>\n",
       "    </tr>\n",
       "    <tr>\n",
       "      <td>42</td>\n",
       "      <td>OXFT_2027</td>\n",
       "      <td>3</td>\n",
       "      <td>0</td>\n",
       "      <td>1.4</td>\n",
       "      <td>63</td>\n",
       "      <td>380.094029</td>\n",
       "      <td>5.940419</td>\n",
       "    </tr>\n",
       "    <tr>\n",
       "      <td>43</td>\n",
       "      <td>OXFT_1133</td>\n",
       "      <td>1</td>\n",
       "      <td>0</td>\n",
       "      <td>2.0</td>\n",
       "      <td>70</td>\n",
       "      <td>205.298014</td>\n",
       "      <td>5.324463</td>\n",
       "    </tr>\n",
       "    <tr>\n",
       "      <td>44</td>\n",
       "      <td>OXFT_1441</td>\n",
       "      <td>3</td>\n",
       "      <td>0</td>\n",
       "      <td>3.2</td>\n",
       "      <td>78</td>\n",
       "      <td>703.506996</td>\n",
       "      <td>6.556078</td>\n",
       "    </tr>\n",
       "    <tr>\n",
       "      <td>45</td>\n",
       "      <td>OXFT_1432</td>\n",
       "      <td>1</td>\n",
       "      <td>0</td>\n",
       "      <td>2.0</td>\n",
       "      <td>71</td>\n",
       "      <td>223.553259</td>\n",
       "      <td>5.409650</td>\n",
       "    </tr>\n",
       "    <tr>\n",
       "      <td>46</td>\n",
       "      <td>OXFT_1125</td>\n",
       "      <td>1</td>\n",
       "      <td>0</td>\n",
       "      <td>1.6</td>\n",
       "      <td>68</td>\n",
       "      <td>186.667268</td>\n",
       "      <td>5.229328</td>\n",
       "    </tr>\n",
       "    <tr>\n",
       "      <td>47</td>\n",
       "      <td>OXFT_1070</td>\n",
       "      <td>1</td>\n",
       "      <td>0</td>\n",
       "      <td>0.2</td>\n",
       "      <td>45</td>\n",
       "      <td>165.594780</td>\n",
       "      <td>5.109544</td>\n",
       "    </tr>\n",
       "    <tr>\n",
       "      <td>49</td>\n",
       "      <td>OXFT_742</td>\n",
       "      <td>3</td>\n",
       "      <td>1</td>\n",
       "      <td>1.7</td>\n",
       "      <td>67</td>\n",
       "      <td>439.038195</td>\n",
       "      <td>6.084586</td>\n",
       "    </tr>\n",
       "    <tr>\n",
       "      <td>50</td>\n",
       "      <td>OXFT_738</td>\n",
       "      <td>1</td>\n",
       "      <td>1</td>\n",
       "      <td>1.8</td>\n",
       "      <td>74</td>\n",
       "      <td>252.059728</td>\n",
       "      <td>5.529666</td>\n",
       "    </tr>\n",
       "    <tr>\n",
       "      <td>52</td>\n",
       "      <td>OXFT_3597</td>\n",
       "      <td>3</td>\n",
       "      <td>0</td>\n",
       "      <td>1.1</td>\n",
       "      <td>60</td>\n",
       "      <td>495.872020</td>\n",
       "      <td>6.206318</td>\n",
       "    </tr>\n",
       "    <tr>\n",
       "      <td>53</td>\n",
       "      <td>OXFT_638</td>\n",
       "      <td>1</td>\n",
       "      <td>1</td>\n",
       "      <td>2.3</td>\n",
       "      <td>63</td>\n",
       "      <td>286.790665</td>\n",
       "      <td>5.658753</td>\n",
       "    </tr>\n",
       "    <tr>\n",
       "      <td>55</td>\n",
       "      <td>OXFT_2069</td>\n",
       "      <td>3</td>\n",
       "      <td>1</td>\n",
       "      <td>2.3</td>\n",
       "      <td>66</td>\n",
       "      <td>552.197225</td>\n",
       "      <td>6.313905</td>\n",
       "    </tr>\n",
       "    <tr>\n",
       "      <td>58</td>\n",
       "      <td>OXFT_680</td>\n",
       "      <td>1</td>\n",
       "      <td>1</td>\n",
       "      <td>4.5</td>\n",
       "      <td>61</td>\n",
       "      <td>233.576924</td>\n",
       "      <td>5.453511</td>\n",
       "    </tr>\n",
       "    <tr>\n",
       "      <td>59</td>\n",
       "      <td>OXFT_443</td>\n",
       "      <td>3</td>\n",
       "      <td>0</td>\n",
       "      <td>2.1</td>\n",
       "      <td>45</td>\n",
       "      <td>521.404771</td>\n",
       "      <td>6.256527</td>\n",
       "    </tr>\n",
       "    <tr>\n",
       "      <td>63</td>\n",
       "      <td>OXFT_511</td>\n",
       "      <td>3</td>\n",
       "      <td>1</td>\n",
       "      <td>5.5</td>\n",
       "      <td>64</td>\n",
       "      <td>474.265105</td>\n",
       "      <td>6.161766</td>\n",
       "    </tr>\n",
       "    <tr>\n",
       "      <td>64</td>\n",
       "      <td>OXFT_736</td>\n",
       "      <td>1</td>\n",
       "      <td>0</td>\n",
       "      <td>1.4</td>\n",
       "      <td>48</td>\n",
       "      <td>148.105870</td>\n",
       "      <td>4.997927</td>\n",
       "    </tr>\n",
       "  </tbody>\n",
       "</table>\n",
       "</div>"
      ],
      "text/plain": [
       "   sample_name  grade  node  size  age        gene  log_gene\n",
       "28   OXFT_2221      3     1   5.5   76  367.817935  5.907588\n",
       "29    OXFT_209      3     1   2.5   66  590.357619  6.380728\n",
       "30   OXFT_1769      1     1   3.5   86  346.658302  5.848340\n",
       "33   OXFT_1770      1     1   1.7   69  258.445515  5.554685\n",
       "34    OXFT_630      1     0   1.5   58  153.841583  5.035923\n",
       "35   OXFT_1342      3     0   2.5   62  643.679906  6.467202\n",
       "37   OXFT_2338      3     1   1.4   63  817.855820  6.706686\n",
       "38   OXFT_2341      1     1   3.3   76  329.411333  5.797307\n",
       "39   OXFT_1902      3     0   2.4   61  746.495081  6.615389\n",
       "42   OXFT_2027      3     0   1.4   63  380.094029  5.940419\n",
       "43   OXFT_1133      1     0   2.0   70  205.298014  5.324463\n",
       "44   OXFT_1441      3     0   3.2   78  703.506996  6.556078\n",
       "45   OXFT_1432      1     0   2.0   71  223.553259  5.409650\n",
       "46   OXFT_1125      1     0   1.6   68  186.667268  5.229328\n",
       "47   OXFT_1070      1     0   0.2   45  165.594780  5.109544\n",
       "49    OXFT_742      3     1   1.7   67  439.038195  6.084586\n",
       "50    OXFT_738      1     1   1.8   74  252.059728  5.529666\n",
       "52   OXFT_3597      3     0   1.1   60  495.872020  6.206318\n",
       "53    OXFT_638      1     1   2.3   63  286.790665  5.658753\n",
       "55   OXFT_2069      3     1   2.3   66  552.197225  6.313905\n",
       "58    OXFT_680      1     1   4.5   61  233.576924  5.453511\n",
       "59    OXFT_443      3     0   2.1   45  521.404771  6.256527\n",
       "63    OXFT_511      3     1   5.5   64  474.265105  6.161766\n",
       "64    OXFT_736      1     0   1.4   48  148.105870  4.997927"
      ]
     },
     "execution_count": 2,
     "metadata": {},
     "output_type": "execute_result"
    }
   ],
   "source": [
    "gene_table[\"log_gene\"] = np.log(gene_table[\"gene\"])\n",
    "gene_table"
   ]
  },
  {
   "cell_type": "code",
   "execution_count": 3,
   "metadata": {},
   "outputs": [
    {
     "data": {
      "text/plain": [
       "<matplotlib.axes._subplots.AxesSubplot at 0x1a1eb9ebd0>"
      ]
     },
     "execution_count": 3,
     "metadata": {},
     "output_type": "execute_result"
    },
    {
     "data": {
      "image/png": "[encoded data removed]",
      "text/plain": [
       "<Figure size 432x288 with 1 Axes>"
      ]
     },
     "metadata": {
      "needs_background": "light"
     },
     "output_type": "display_data"
    }
   ],
   "source": [
    "sns.boxplot(y=\"log_gene\",x=\"grade\",hue=\"node\",data=gene_table)"
   ]
  },
  {
   "cell_type": "code",
   "execution_count": 4,
   "metadata": {},
   "outputs": [
    {
     "name": "stdout",
     "output_type": "stream",
     "text": [
      "                    df    sum_sq   mean_sq          F        PR(>F)\n",
      "C(grade)           1.0  4.724248  4.724248  98.180646  3.691090e-09\n",
      "C(node)            1.0  0.210704  0.210704   4.378918  4.934337e-02\n",
      "C(grade):C(node)   1.0  0.432580  0.432580   8.989996  7.102512e-03\n",
      "Residual          20.0  0.962358  0.048118        NaN           NaN\n"
     ]
    }
   ],
   "source": [
    "from statsmodels.formula.api import ols\n",
    "from statsmodels.stats.anova import anova_lm\n",
    "formula = 'log_gene ~ C(grade) + C(node) + C(grade):C(node)'\n",
    "lm = ols(formula, gene_table).fit()\n",
    "#print(lm.summary())\n",
    "print(anova_lm(lm))"
   ]
  },
  {
   "cell_type": "code",
   "execution_count": 5,
   "metadata": {},
   "outputs": [
    {
     "data": {
      "text/plain": [
       "<seaborn.axisgrid.FacetGrid at 0x118f93dd8>"
      ]
     },
     "execution_count": 5,
     "metadata": {},
     "output_type": "execute_result"
    },
    {
     "data": {
      "image/png": "[encoded data removed]",
      "text/plain": [
       "<Figure size 762.375x360 with 2 Axes>"
      ]
     },
     "metadata": {
      "needs_background": "light"
     },
     "output_type": "display_data"
    }
   ],
   "source": [
    "sns.lmplot(y=\"log_gene\",x=\"size\",hue=\"node\",col=\"grade\",data=gene_table)"
   ]
  },
  {
   "cell_type": "code",
   "execution_count": 6,
   "metadata": {},
   "outputs": [
    {
     "name": "stdout",
     "output_type": "stream",
     "text": [
      "            df    sum_sq   mean_sq          F        PR(>F)\n",
      "C(grade)   1.0  4.724248  4.724248  67.820058  7.427185e-08\n",
      "C(node)    1.0  0.210704  0.210704   3.024817  9.736925e-02\n",
      "size       1.0  0.001767  0.001767   0.025364  8.750601e-01\n",
      "Residual  20.0  1.393171  0.069659        NaN           NaN\n"
     ]
    }
   ],
   "source": [
    "formula = 'log_gene ~ C(grade) + C(node) + size'\n",
    "lm2 = ols(formula, gene_table).fit()\n",
    "print(anova_lm(lm2))"
   ]
  },
  {
   "cell_type": "code",
   "execution_count": 7,
   "metadata": {},
   "outputs": [
    {
     "name": "stdout",
     "output_type": "stream",
     "text": [
      "                 df    sum_sq   mean_sq          F        PR(>F)\n",
      "C(grade)        1.0  4.724248  4.724248  81.016482  1.801068e-08\n",
      "size            1.0  0.034664  0.034664   0.594460  4.497132e-01\n",
      "size:C(grade)   1.0  0.404735  0.404735   6.940825  1.589141e-02\n",
      "Residual       20.0  1.166244  0.058312        NaN           NaN\n"
     ]
    }
   ],
   "source": [
    "formula = 'log_gene ~ C(grade) + size + size:C(grade)'\n",
    "lm3 = ols(formula, gene_table).fit()\n",
    "print(anova_lm(lm3))"
   ]
  },
  {
   "cell_type": "code",
   "execution_count": null,
   "metadata": {},
   "outputs": [],
   "source": []
  }
 ],
 "metadata": {
  "kernelspec": {
   "display_name": "Python 3",
   "language": "python",
   "name": "python3"
  },
  "language_info": {
   "codemirror_mode": {
    "name": "ipython",
    "version": 3
   },
   "file_extension": ".py",
   "mimetype": "text/x-python",
   "name": "python",
   "nbconvert_exporter": "python",
   "pygments_lexer": "ipython3",
   "version": "3.7.4"
  }
 },
 "nbformat": 4,
 "nbformat_minor": 2
}
