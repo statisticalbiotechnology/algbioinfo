{
 "cells": [
  {
   "cell_type": "code",
   "execution_count": 1,
   "metadata": {},
   "outputs": [],
   "source": [
    "from os import listdir\n",
    "from os.path import isdir\n",
    "\n",
    "def count_files(path):\n",
    "    n_files = 0\n",
    "    for p in listdir(path):\n",
    "        if isdir(p):\n",
    "            n_files += count_files(p)\n",
    "        else:\n",
    "            n_files += 1\n",
    "    return n_files"
   ]
  },
  {
   "cell_type": "code",
   "execution_count": 2,
   "metadata": {},
   "outputs": [
    {
     "data": {
      "text/plain": [
       "24"
      ]
     },
     "execution_count": 2,
     "metadata": {},
     "output_type": "execute_result"
    }
   ],
   "source": [
    "count_files('.')"
   ]
  },
  {
   "cell_type": "code",
   "execution_count": 3,
   "metadata": {},
   "outputs": [],
   "source": [
    "def fib_rec(n):\n",
    "    if (n==1) or (n==2):\n",
    "        return 1\n",
    "    return fib_rec(n-1) + fib_rec(n-2)"
   ]
  },
  {
   "cell_type": "code",
   "execution_count": 4,
   "metadata": {},
   "outputs": [
    {
     "data": {
      "text/plain": [
       "55"
      ]
     },
     "execution_count": 4,
     "metadata": {},
     "output_type": "execute_result"
    }
   ],
   "source": [
    "fib_rec(10)"
   ]
  },
  {
   "cell_type": "code",
   "execution_count": 6,
   "metadata": {},
   "outputs": [
    {
     "name": "stdout",
     "output_type": "stream",
     "text": [
      "2\n",
      "3\n",
      "4\n"
     ]
    }
   ],
   "source": [
    "for i in range(2,5):\n",
    "    print(i)"
   ]
  },
  {
   "cell_type": "code",
   "execution_count": 2,
   "metadata": {},
   "outputs": [],
   "source": [
    "aa_dict = {'A':71,\n",
    "'R': 156,\n",
    "'N': 114,\n",
    "'D': 115,\n",
    "'C': 103,\n",
    "'E': 129,\n",
    "'Q': 128,\n",
    "'G': 57,\n",
    "'H': 137,\n",
    "'I': 113,\n",
    "'L': 113,\n",
    "'K': 128,\n",
    "'M': 131,\n",
    "'F': 147,\n",
    "'P': 97,\n",
    "'S': 87,\n",
    "'T': 101,\n",
    "'W': 186,\n",
    "'Y': 163,\n",
    "'V': 99}\n"
   ]
  },
  {
   "cell_type": "code",
   "execution_count": 14,
   "metadata": {},
   "outputs": [],
   "source": [
    "def num_prot(mass):\n",
    "    F = [0]*(mass+1)\n",
    "    F[0]=1\n",
    "    for m in range(1,mass+1):\n",
    "        for aa,aa_mass in aa_dict.items():\n",
    "            if m-aa_mass>=0:\n",
    "                F[m] += F[m-aa_mass]\n",
    "    return F[mass]\n",
    "    "
   ]
  },
  {
   "cell_type": "code",
   "execution_count": 15,
   "metadata": {},
   "outputs": [
    {
     "data": {
      "text/plain": [
       "118435320169999012747083005860128145980965366698836189949812"
      ]
     },
     "execution_count": 15,
     "metadata": {},
     "output_type": "execute_result"
    }
   ],
   "source": [
    "num_prot(5000)"
   ]
  },
  {
   "cell_type": "code",
   "execution_count": null,
   "metadata": {},
   "outputs": [],
   "source": []
  }
 ],
 "metadata": {
  "kernelspec": {
   "display_name": "Python 3",
   "language": "python",
   "name": "python3"
  },
  "language_info": {
   "codemirror_mode": {
    "name": "ipython",
    "version": 3
   },
   "file_extension": ".py",
   "mimetype": "text/x-python",
   "name": "python",
   "nbconvert_exporter": "python",
   "pygments_lexer": "ipython3",
   "version": "3.6.6"
  }
 },
 "nbformat": 4,
 "nbformat_minor": 2
}
