{
 "cells": [
  {
   "cell_type": "code",
   "execution_count": 1,
   "metadata": {},
   "outputs": [],
   "source": [
    "def fib_td(n, F= None):\n",
    "    if F == None:\n",
    "        F = [None]*(n+1)\n",
    "    if F[n] != None:\n",
    "        return F[n]\n",
    "    if n==1 or n==2:\n",
    "        result = n\n",
    "    else:\n",
    "        result = fib_td(n-1,F) + fib_td(n-2,F)\n",
    "    F[n] = result\n",
    "    return result\n",
    "    "
   ]
  },
  {
   "cell_type": "code",
   "execution_count": 2,
   "metadata": {},
   "outputs": [
    {
     "data": {
      "text/plain": [
       "453973694165307953197296969697410619233826"
      ]
     },
     "execution_count": 2,
     "metadata": {},
     "output_type": "execute_result"
    }
   ],
   "source": [
    "fib_td(200)"
   ]
  },
  {
   "cell_type": "code",
   "execution_count": 3,
   "metadata": {},
   "outputs": [],
   "source": [
    "def fib_trad(n):\n",
    "    if n==1 or n==2:\n",
    "        result = n\n",
    "    else:\n",
    "        result = fib_trad(n-1) + fib_trad(n-2)\n",
    "    return result\n"
   ]
  },
  {
   "cell_type": "code",
   "execution_count": 8,
   "metadata": {},
   "outputs": [],
   "source": [
    "def fib_bu(n):\n",
    "    if n==1 or n==2:\n",
    "        return n\n",
    "    F = [None]*(n+1)\n",
    "    F[1],F[2] = 1,2\n",
    "    for i in range(3,n+1):\n",
    "        F[i] = F[i-1] + F[i-2]\n",
    "    return F[n]\n",
    "    "
   ]
  },
  {
   "cell_type": "code",
   "execution_count": 11,
   "metadata": {},
   "outputs": [
    {
     "data": {
      "text/plain": [
       "453973694165307953197296969697410619233826"
      ]
     },
     "execution_count": 11,
     "metadata": {},
     "output_type": "execute_result"
    }
   ],
   "source": [
    "fib_bu(200)"
   ]
  },
  {
   "cell_type": "code",
   "execution_count": 12,
   "metadata": {},
   "outputs": [],
   "source": [
    "def fib_mem(n):\n",
    "    if n==1 or n==2:\n",
    "        return n\n",
    "    Fpp,Fp = 1,2\n",
    "    for i in range(3,n+1):\n",
    "        F = Fpp + Fp\n",
    "        Fp, Fpp = F, Fp\n",
    "    return F\n"
   ]
  },
  {
   "cell_type": "code",
   "execution_count": 13,
   "metadata": {},
   "outputs": [
    {
     "data": {
      "text/plain": [
       "453973694165307953197296969697410619233826"
      ]
     },
     "execution_count": 13,
     "metadata": {},
     "output_type": "execute_result"
    }
   ],
   "source": [
    "fib_mem(200)"
   ]
  },
  {
   "cell_type": "code",
   "execution_count": null,
   "metadata": {},
   "outputs": [],
   "source": []
  }
 ],
 "metadata": {
  "kernelspec": {
   "display_name": "Python 3",
   "language": "python",
   "name": "python3"
  },
  "language_info": {
   "codemirror_mode": {
    "name": "ipython",
    "version": 3
   },
   "file_extension": ".py",
   "mimetype": "text/x-python",
   "name": "python",
   "nbconvert_exporter": "python",
   "pygments_lexer": "ipython3",
   "version": "3.7.4"
  }
 },
 "nbformat": 4,
 "nbformat_minor": 2
}
