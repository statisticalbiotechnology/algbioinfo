{
 "cells": [
  {
   "cell_type": "code",
   "execution_count": 6,
   "metadata": {},
   "outputs": [],
   "source": [
    "import numpy as np\n",
    "def npm(mass,A):\n",
    "    M = np.zeros(mass+1)\n",
    "    M[0]=1\n",
    "    for m in range(1,mass+1):\n",
    "        for ma in A.values():\n",
    "            if m-ma>=0:\n",
    "                M[m] += M[m-ma]\n",
    "    return M[m]        "
   ]
  },
  {
   "cell_type": "code",
   "execution_count": 21,
   "metadata": {},
   "outputs": [
    {
     "data": {
      "text/plain": [
       "5.0"
      ]
     },
     "execution_count": 21,
     "metadata": {},
     "output_type": "execute_result"
    }
   ],
   "source": [
    "A = {'A':2,'B':3}\n",
    "npm(9,A)"
   ]
  },
  {
   "cell_type": "code",
   "execution_count": 20,
   "metadata": {},
   "outputs": [
    {
     "data": {
      "text/plain": [
       "21458.0"
      ]
     },
     "execution_count": 20,
     "metadata": {},
     "output_type": "execute_result"
    }
   ],
   "source": [
    "aa = {'A':71,\n",
    "'R': 156,\n",
    "'N': 114,\n",
    "'D': 115,\n",
    "'C': 103,\n",
    "'E': 129,\n",
    "'Q': 128,\n",
    "'G': 57,\n",
    "'H': 137,\n",
    "'I': 113,\n",
    "'L': 113,\n",
    "'K': 128,\n",
    "'M': 131,\n",
    "'F': 147,\n",
    "'P': 97,\n",
    "'S': 87,\n",
    "'T': 101,\n",
    "'W': 186,\n",
    "'Y': 163,\n",
    "'V': 99}\n",
    "npm(500,aa)"
   ]
  },
  {
   "cell_type": "code",
   "execution_count": null,
   "metadata": {},
   "outputs": [],
   "source": []
  }
 ],
 "metadata": {
  "kernelspec": {
   "display_name": "Python 3",
   "language": "python",
   "name": "python3"
  },
  "language_info": {
   "codemirror_mode": {
    "name": "ipython",
    "version": 3
   },
   "file_extension": ".py",
   "mimetype": "text/x-python",
   "name": "python",
   "nbconvert_exporter": "python",
   "pygments_lexer": "ipython3",
   "version": "3.7.4"
  }
 },
 "nbformat": 4,
 "nbformat_minor": 2
}
