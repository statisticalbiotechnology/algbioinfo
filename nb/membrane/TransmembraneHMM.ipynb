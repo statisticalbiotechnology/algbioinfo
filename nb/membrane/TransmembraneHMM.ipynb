{
 "cells": [
  {
   "cell_type": "code",
   "execution_count": 7,
   "metadata": {},
   "outputs": [],
   "source": [
    "membrane_e = {'A':0.125718,'C':0.0256954,'D':0.00371686,'E':0.00394872,'F':0.0912202,\n",
    "              'G':0.0720512,'H':0.00508179,'I':0.132166,'K':0.00204625,'L':0.189386,\n",
    "              'M':0.0412358,'N':0.00779492,'P':0.0135996,'Q':0.00548422,'R':0.00202563,\n",
    "              'S':0.0456952,'T':0.0513129,'V':0.146299,'W':0.0159998,'Y':0.0195234}\n",
    "\n",
    "inner_e = { 'A':0.0607744,'C':0.00972669,'D':0.0479493,'E':0.0547882,'F':0.0266003,\n",
    "            'G':0.0740532,'H':0.0283636,'I':0.0329976,'K':0.101684,'L':0.0572548,\n",
    "            'M':0.0376071,'N':0.0474972,'P':0.0543291,'Q':0.0511293,'R':0.102204,\n",
    "            'S':0.0812413,'T':0.0589999,'V':0.0350916,'W':0.0135542,'Y':0.0241536}\n",
    "    \n",
    "outer_e = {'A':0.10829,'C':0.0011907,'D':0.00428622,'E':0.00478901,'F':0.0955676,\n",
    "           'G':0.0652582,'H':0.0140235,'I':0.0946458,'K':0.00598281,'L':0.165969,\n",
    "           'M':0.038532,'N':0.0153548,'P':0.0290406,'Q':0.0142883,'R':0.00969443,\n",
    "           'S':0.0463647,'T':0.039902,'V':0.0995781,'W':0.0649984,'Y':0.0822437}\n",
    "\n",
    "begin = { 'A':0.0,'C':0.0,'D':0.0,'E':0.0,'F':0.0,\n",
    "          'G':0.0,'H':0.0,'I':0.0,'K':0.0,'L':0.0,\n",
    "          'M':0.0,'N':0.0,'P':0.0,'Q':0.0,'R':0.0,\n",
    "          'S':0.0,'T':0.0,'V':0.0,'W':0.0,'Y':0.0}\n",
    "\n",
    "emission = [begin,inner_e,membrane_e,outer_e,membrane_e]\n",
    "\n",
    "b = 0.02\n",
    "a = 1-b\n",
    "transition = [[0,0.5,0,0.5,0],    # begin\n",
    "             [0,a,b,0.0,0],       # inner\n",
    "             [0,0,a,b,0.0],       # membrane - i->o\n",
    "             [0,0,0,a,b],         # outer\n",
    "             [0,b,0,0,a]          # membrane o->i\n",
    "             ]\n",
    "\n"
   ]
  },
  {
   "cell_type": "code",
   "execution_count": 8,
   "metadata": {},
   "outputs": [],
   "source": [
    "import numpy as np\n",
    "def viterbi_decode(sequence,emission,transition):\n",
    "    N = len(emission)\n",
    "    L = len(sequence)\n",
    "    V = np.zeros((N,L+1))       # An m*n matrix, initiated with 0's\n",
    "    ptr = np.zeros((N,L+1))       # An m*n matrix, initiated with 0's\n",
    "    V[0,0] = 1.0\n",
    "    for i in range(1,L+1):\n",
    "        for to_ in range(N):\n",
    "            mv = .0\n",
    "            for from_ in range(N):\n",
    "                if mv < V[from_,i-1]*transition[from_][to_]:\n",
    "                    mv = V[from_,i-1]*transition[from_][to_]\n",
    "                    ptr[to_,i] = from_\n",
    "            V[to_,i] = mv * emission[to_][sequence[i-1]]\n",
    "    path_str = \"\"\n",
    "    # Find maximal last step\n",
    "    mv,p = 0.0,-1\n",
    "    for to_ in range(N):\n",
    "        if V[to_,L] > mv:\n",
    "          mv, p = V[to_,L],int(to_) \n",
    "    for i in range(L,0,-1):\n",
    "        path_str = str(int(p)) + path_str\n",
    "        p = int(ptr[p,i])\n",
    "    chunk = 80\n",
    "    for ix in range(0,L+chunk-1,chunk):\n",
    "        print(sequence[ix:ix+chunk])\n",
    "        print(path_str[ix:ix+chunk])\n",
    "        print()\n",
    "    #print(ptr)\n",
    "    #print(V)\n",
    "            \n",
    "            \n"
   ]
  },
  {
   "cell_type": "code",
   "execution_count": 9,
   "metadata": {},
   "outputs": [
    {
     "name": "stdout",
     "output_type": "stream",
     "text": [
      "FFFFFFFFFVVVVVVVVVVVVVVVVVVVVVVVVVVVVRRRRRRRRRRRRRRRRR\n",
      "333333333444444444444444444444444444411111111111111111\n",
      "\n",
      "\n",
      "\n",
      "\n"
     ]
    }
   ],
   "source": [
    "viterbi_decode(\"FFFFFFFFFVVVVVVVVVVVVVVVVVVVVVVVVVVVVRRRRRRRRRRRRRRRRR\",emission,transition)"
   ]
  },
  {
   "cell_type": "code",
   "execution_count": 11,
   "metadata": {},
   "outputs": [
    {
     "name": "stdout",
     "output_type": "stream",
     "text": [
      "MNGTEGPNFYVPFSNKTGVVRSPFEAPQYYLAEPWQFSMLAAYMFLLIVLGFPINFLTLYVTVQHKKLRTPLNYILLNLA\n",
      "00000000000000000000000000000000000000000000000000000000000000000000000000000000\n",
      "\n",
      "VADLFMVFGGFTTTLYTSLHGYFVFGPTGCNLEGFFATLGGEIALWSLVVLAIERYVVVCKPMSNFRFGENHAIMGVAFT\n",
      "00000000000000000000000000000000000000000000000000000000000000000000000000000000\n",
      "\n",
      "WVMALACAAPPLVGWSRYIPQGMQCSCGALYFTLKPEINNESFVIYMFVVHFSIPLIVIFFCYGQLVFTVKEAAAQQQES\n",
      "00000000000000000000000000000000000000000000000000000000000000000000000000000000\n",
      "\n",
      "ATTQKAEKEVTRMVIIMVIAFLICWLPYAGVAFYIFTHQGSDFGPIFMTIPAFFAKSSSVYNPVIYIMMNKQFRNCMLTT\n",
      "00000000000000000000000000000000000000000000000000000000000000000000000000000000\n",
      "\n",
      "LCCGKNPLGDDEASTTVSKTETSQVAPA\n",
      "000000000000000000000000000-1\n",
      "\n",
      "\n",
      "\n",
      "\n"
     ]
    }
   ],
   "source": [
    "viterbi_decode(\"MNGTEGPNFYVPFSNKTGVVRSPFEAPQYYLAEPWQFSMLAAYMFLLIVLGFPINFLTLYVTVQHKKLRTPLNYILLNLAVADLFMVFGGFTTTLYTSLHGYFVFGPTGCNLEGFFATLGGEIALWSLVVLAIERYVVVCKPMSNFRFGENHAIMGVAFTWVMALACAAPPLVGWSRYIPQGMQCSCGALYFTLKPEINNESFVIYMFVVHFSIPLIVIFFCYGQLVFTVKEAAAQQQESATTQKAEKEVTRMVIIMVIAFLICWLPYAGVAFYIFTHQGSDFGPIFMTIPAFFAKSSSVYNPVIYIMMNKQFRNCMLTTLCCGKNPLGDDEASTTVSKTETSQVAPA\",emission,transition)"
   ]
  },
  {
   "cell_type": "code",
   "execution_count": 12,
   "metadata": {},
   "outputs": [],
   "source": [
    "import numpy as np\n",
    "def log_viterbi_decode(sequence,emission,transition):\n",
    "    N = len(emission)\n",
    "    L = len(sequence)\n",
    "    V = np.zeros((N,L+1))       # An m*n matrix, initiated with 0's\n",
    "    ptr = np.zeros((N,L+1))       # An m*n matrix, initiated with 0's\n",
    "    for s in range(1,N):\n",
    "        V[s,0] = -np.inf\n",
    "    for i in range(1,L+1):\n",
    "        for to_ in range(N):\n",
    "            mv = -np.inf\n",
    "            for from_ in range(N):\n",
    "                if mv < V[from_,i-1] + np.log(transition[from_][to_]):\n",
    "                    mv = V[from_,i-1] + np.log(transition[from_][to_])\n",
    "                    ptr[to_,i] = from_\n",
    "            V[to_,i] = mv + np.log(emission[to_][sequence[i-1]])\n",
    "    path_str = \"\"\n",
    "    # Find maximal last step\n",
    "    mv,p = -np.inf,-1\n",
    "    for to_ in range(N):\n",
    "        if V[to_,L] > mv:\n",
    "          mv, p = V[to_,L],int(to_) \n",
    "    for i in range(L,0,-1):\n",
    "        path_str = str(int(p)) + path_str\n",
    "        p = int(ptr[p,i])\n",
    "    chunk = 80\n",
    "    for ix in range(0,L+chunk-1,chunk):\n",
    "        print(sequence[ix:ix+chunk])\n",
    "        print(path_str[ix:ix+chunk])\n",
    "        print()\n"
   ]
  },
  {
   "cell_type": "code",
   "execution_count": 13,
   "metadata": {},
   "outputs": [
    {
     "name": "stdout",
     "output_type": "stream",
     "text": [
      "MNGTEGPNFYVPFSNKTGVVRSPFEAPQYYLAEPWQFSMLAAYMFLLIVLGFPINFLTLYVTVQHKKLRTPLNYILLNLA\n",
      "11111111111111111111111111111111111122222233333333333333333333333333333333333333\n",
      "\n",
      "VADLFMVFGGFTTTLYTSLHGYFVFGPTGCNLEGFFATLGGEIALWSLVVLAIERYVVVCKPMSNFRFGENHAIMGVAFT\n",
      "33333333333333333333333333344444444444444444444444444111111111111111111122222222\n",
      "\n",
      "WVMALACAAPPLVGWSRYIPQGMQCSCGALYFTLKPEINNESFVIYMFVVHFSIPLIVIFFCYGQLVFTVKEAAAQQQES\n",
      "22222222233333333333333344444444441111111122222222222222222222333444441111111111\n",
      "\n",
      "ATTQKAEKEVTRMVIIMVIAFLICWLPYAGVAFYIFTHQGSDFGPIFMTIPAFFAKSSSVYNPVIYIMMNKQFRNCMLTT\n",
      "11111111111122222222222233333333333333333333333333333333333333333344411111111111\n",
      "\n",
      "LCCGKNPLGDDEASTTVSKTETSQVAPA\n",
      "1111111111111111111111111111\n",
      "\n",
      "\n",
      "\n",
      "\n"
     ]
    },
    {
     "name": "stderr",
     "output_type": "stream",
     "text": [
      "//anaconda3/envs/py37/lib/python3.7/site-packages/ipykernel_launcher.py:13: RuntimeWarning: divide by zero encountered in log\n",
      "  del sys.path[0]\n",
      "//anaconda3/envs/py37/lib/python3.7/site-packages/ipykernel_launcher.py:16: RuntimeWarning: divide by zero encountered in log\n",
      "  app.launch_new_instance()\n"
     ]
    }
   ],
   "source": [
    "# >OPSD_SHEEP P02700 RHODOPSIN.\n",
    "# MNGTEGPNFYVPFSNKTGVVRSPFEAPQYYLAEPWQFSMLAAYMFLLIVLGFPINFLTLY\n",
    "# VTVQHKKLRTPLNYILLNLAVADLFMVFGGFTTTLYTSLHGYFVFGPTGCNLEGFFATLG\n",
    "# GEIALWSLVVLAIERYVVVCKPMSNFRFGENHAIMGVAFTWVMALACAAPPLVGWSRYIP\n",
    "# QGMQCSCGALYFTLKPEINNESFVIYMFVVHFSIPLIVIFFCYGQLVFTVKEAAAQQQES\n",
    "# ATTQKAEKEVTRMVIIMVIAFLICWLPYAGVAFYIFTHQGSDFGPIFMTIPAFFAKSSSV\n",
    "# YNPVIYIMMNKQFRNCMLTTLCCGKNPLGDDEASTTVSKTETSQVAPA\n",
    "\n",
    "log_viterbi_decode(\"MNGTEGPNFYVPFSNKTGVVRSPFEAPQYYLAEPWQFSMLAAYMFLLIVLGFPINFLTLYVTVQHKKLRTPLNYILLNLAVADLFMVFGGFTTTLYTSLHGYFVFGPTGCNLEGFFATLGGEIALWSLVVLAIERYVVVCKPMSNFRFGENHAIMGVAFTWVMALACAAPPLVGWSRYIPQGMQCSCGALYFTLKPEINNESFVIYMFVVHFSIPLIVIFFCYGQLVFTVKEAAAQQQESATTQKAEKEVTRMVIIMVIAFLICWLPYAGVAFYIFTHQGSDFGPIFMTIPAFFAKSSSVYNPVIYIMMNKQFRNCMLTTLCCGKNPLGDDEASTTVSKTETSQVAPA\",emission,transition)"
   ]
  },
  {
   "cell_type": "code",
   "execution_count": null,
   "metadata": {},
   "outputs": [],
   "source": []
  }
 ],
 "metadata": {
  "kernelspec": {
   "display_name": "Python 3",
   "language": "python",
   "name": "python3"
  },
  "language_info": {
   "codemirror_mode": {
    "name": "ipython",
    "version": 3
   },
   "file_extension": ".py",
   "mimetype": "text/x-python",
   "name": "python",
   "nbconvert_exporter": "python",
   "pygments_lexer": "ipython3",
   "version": "3.7.4"
  }
 },
 "nbformat": 4,
 "nbformat_minor": 2
}
