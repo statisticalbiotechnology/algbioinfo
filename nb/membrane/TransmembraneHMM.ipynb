{
 "cells": [
  {
   "cell_type": "code",
   "execution_count": 10,
   "metadata": {},
   "outputs": [],
   "source": [
    "membrane_e = {'A':0.125718,'C':0.0256954,'D':0.00371686,'E':0.00394872,'F':0.0912202,\n",
    "         'G':0.0720512,'H':0.00508179,'I':0.132166,'K':0.00204625,'L':0.189386,\n",
    "         'M':0.0412358,'N':0.00779492,'P':0.0135996,'Q':0.00548422,'R':0.00202563,\n",
    "         'S':0.0456952,'T':0.0513129,'V':0.146299,'W':0.0159998,'Y':0.0195234}\n",
    "\n",
    "inner_e = {'A':0.104441,'C':0.0141024,'D':0.00713454,'E':0.00716364,'F':0.0961528,\n",
    "         'G':0.0562089,'H':0.00959053,'I':0.100433,'K':0.00966158,'L':0.205966,\n",
    "         'M':0.0414329,'N':0.0168898,'P':0.0182519,'Q':0.00823595,'R':0.0155126,\n",
    "         'S':0.0366433,'T':0.0369284,'V':0.105292,'W':0.0397981,'Y':0.0701605}\n",
    "\n",
    "outer_e = {'A':0.10829,'C':0.0011907,'D':0.00428622,'E':0.00478901,'F':0.0955676,\n",
    "         'G':0.0652582,'H':0.0140235,'I':0.0946458,'K':0.00598281,'L':0.165969,\n",
    "         'M':0.038532,'N':0.0153548,'P':0.0290406,'Q':0.0142883,'R':0.00969443,\n",
    "         'S':0.0463647,'T':0.039902,'V':0.0995781,'W':0.0649984,'Y':0.0822437}\n",
    "\n",
    "begin = {'A':0.0,'C':0.0,'D':0.0,'E':0.0,'F':0.0,\n",
    "         'G':0.0,'H':0.0,'I':0.0,'K':0.0,'L':0.0,\n",
    "         'M':0.0,'N':0.0,'P':0.0,'Q':0.0,'R':0.0,\n",
    "         'S':0.0,'T':0.0,'V':0.0,'W':0.0,'Y':0.0}\n",
    "\n",
    "emission = [begin,inner_e,membrane_e,outer_e,membrane_e]\n",
    "\n",
    "transition = [[0,0.5,0,0.5,0],    # begin\n",
    "             [0,0.95,0.05,0.0,0], # inner\n",
    "             [0,0,0.95,0.05,0.0], # membrane - i->o\n",
    "             [0,0,0,0.95,0.05],   # outer\n",
    "             [0,0.05,0,0,0.95]    # membrane o->i\n",
    "             ]\n",
    "\n"
   ]
  },
  {
   "cell_type": "code",
   "execution_count": 55,
   "metadata": {},
   "outputs": [],
   "source": [
    "import numpy as np\n",
    "def viterbi_decode(sequence,emission,transition):\n",
    "    N = len(emission)\n",
    "    L = len(sequence)\n",
    "    V = np.zeros((N,L+1))       # An m*n matrix, initiated with 0's\n",
    "    ptr = np.zeros((N,L+1))       # An m*n matrix, initiated with 0's\n",
    "    V[0,0] = 1.0\n",
    "    for i in range(1,L+1):\n",
    "        for to_ in range(N):\n",
    "            mv = .0\n",
    "            for from_ in range(N):\n",
    "                if mv < V[from_,i-1]*transition[from_][to_]:\n",
    "                    mv = V[from_,i-1]*transition[from_][to_]\n",
    "                    ptr[to_,i] = from_\n",
    "            V[to_,i] = mv * emission[to_][sequence[i-1]]\n",
    "    path_str = \"\"\n",
    "    # Find maximal last step\n",
    "    mv,p = 0.0,-1\n",
    "    for to_ in range(N):\n",
    "        if V[to_,L] > mv:\n",
    "          mv, p = V[to_,L],int(to_) \n",
    "    for i in range(L,0,-1):\n",
    "        path_str = str(int(p)) + path_str\n",
    "        p = int(ptr[p,i])\n",
    "    print(sequence)\n",
    "    print(path_str)\n",
    "    #print(ptr)\n",
    "    #print(V)\n",
    "            \n",
    "            \n"
   ]
  },
  {
   "cell_type": "code",
   "execution_count": 57,
   "metadata": {},
   "outputs": [
    {
     "name": "stdout",
     "output_type": "stream",
     "text": [
      "GGGGGGGGGGGGGVVVVVVVVVVVVVVVVVVVVVVVVVVVVRRRRRRRRRRRRRRRRR\n",
      "3444444444444444444444444444444444444444411111111111111111\n"
     ]
    }
   ],
   "source": [
    "viterbi_decode(\"GGGGGGGGGGGGGVVVVVVVVVVVVVVVVVVVVVVVVVVVVRRRRRRRRRRRRRRRRR\",emission,transition)"
   ]
  },
  {
   "cell_type": "code",
   "execution_count": 58,
   "metadata": {},
   "outputs": [
    {
     "data": {
      "text/plain": [
       "0.5"
      ]
     },
     "execution_count": 58,
     "metadata": {},
     "output_type": "execute_result"
    }
   ],
   "source": [
    "transition[0][1]"
   ]
  },
  {
   "cell_type": "code",
   "execution_count": 42,
   "metadata": {},
   "outputs": [
    {
     "data": {
      "text/plain": [
       "array([3, 2, 1])"
      ]
     },
     "execution_count": 42,
     "metadata": {},
     "output_type": "execute_result"
    }
   ],
   "source": [
    "np.arange(3,0,-1)"
   ]
  },
  {
   "cell_type": "code",
   "execution_count": null,
   "metadata": {},
   "outputs": [],
   "source": []
  }
 ],
 "metadata": {
  "kernelspec": {
   "display_name": "Python 3",
   "language": "python",
   "name": "python3"
  },
  "language_info": {
   "codemirror_mode": {
    "name": "ipython",
    "version": 3
   },
   "file_extension": ".py",
   "mimetype": "text/x-python",
   "name": "python",
   "nbconvert_exporter": "python",
   "pygments_lexer": "ipython3",
   "version": "3.7.4"
  }
 },
 "nbformat": 4,
 "nbformat_minor": 2
}
