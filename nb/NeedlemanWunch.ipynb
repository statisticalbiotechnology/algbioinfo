{
 "cells": [
  {
   "cell_type": "code",
   "execution_count": 10,
   "metadata": {},
   "outputs": [],
   "source": [
    "import numpy as np\n",
    "\n",
    "def d(x,y):\n",
    "    if x == '-' or y == '-':\n",
    "        return -2\n",
    "    if x==y:\n",
    "        return 3\n",
    "    else:\n",
    "        return -1\n",
    "\n",
    "def nw_align(a,b):\n",
    "    N = len(a)\n",
    "    M = len(b)\n",
    "    S = np.zeros((N+1,M+1))\n",
    "    ptr = np.zeros((N+1,M+1,2))\n",
    "    for i in range(N+1):\n",
    "        S[i,0] = i*d('-','-')\n",
    "    for j in range(M+1):\n",
    "        S[0,j] = j*d('-','-')\n",
    "    for i in range(1,N+1):    \n",
    "        for j in range(1,M+1):    \n",
    "            match = S[i-1,j-1] + d(a[i-1],b[j-1])\n",
    "            delete = S[i,j-1] + d('-',b[j-1])\n",
    "            insert = S[i-1,j] + d(a[i-1],'-')\n",
    "            if match >= max(delete,insert):\n",
    "                S[i,j] = match\n",
    "                ptr[i,j] = [i-1,j-1]\n",
    "            elif delete >= insert:\n",
    "                S[i,j] = delete\n",
    "                ptr[i,j] = [i,j-1]\n",
    "            else:\n",
    "                S[i,j] = insert\n",
    "                ptr[i,j] = [i-1,j]\n",
    "    print(S)\n",
    "    print(\"Score :\",S[N,M])\n",
    "    i,j = N,M\n",
    "    while (ptr[i,j,0]!=0 or ptr[i,j,1]!=0):\n",
    "        print(ptr[i,j])\n",
    "        i,j = int(ptr[i,j,0]),int(ptr[i,j,1])"
   ]
  },
  {
   "cell_type": "code",
   "execution_count": 12,
   "metadata": {},
   "outputs": [
    {
     "name": "stdout",
     "output_type": "stream",
     "text": [
      "[[  0.  -2.  -4.  -6.  -8. -10. -12.]\n",
      " [ -2.  -1.  -3.  -5.  -7.  -9. -11.]\n",
      " [ -4.   1.  -1.  -3.  -5.  -7.  -9.]\n",
      " [ -6.  -1.   4.   2.   0.  -2.  -4.]\n",
      " [ -8.  -3.   2.   7.   5.   3.   1.]\n",
      " [-10.  -5.   0.   5.   6.   4.   2.]\n",
      " [-12.  -7.  -2.   3.   4.   5.   3.]\n",
      " [-14.  -9.  -4.   1.   6.   4.   4.]\n",
      " [-16. -11.  -6.  -1.   4.   9.   7.]\n",
      " [-18. -13.  -8.  -3.   2.   7.  12.]]\n",
      "Score : 12.0\n",
      "[8. 5.]\n",
      "[7. 4.]\n",
      "[6. 3.]\n",
      "[5. 2.]\n",
      "[4. 1.]\n",
      "[3. 1.]\n",
      "[2. 1.]\n",
      "[1. 0.]\n"
     ]
    }
   ],
   "source": [
    "nw_align(\"THISISFUN\",\"HISFUN\")"
   ]
  },
  {
   "cell_type": "code",
   "execution_count": null,
   "metadata": {},
   "outputs": [],
   "source": []
  }
 ],
 "metadata": {
  "kernelspec": {
   "display_name": "Python 3",
   "language": "python",
   "name": "python3"
  },
  "language_info": {
   "codemirror_mode": {
    "name": "ipython",
    "version": 3
   },
   "file_extension": ".py",
   "mimetype": "text/x-python",
   "name": "python",
   "nbconvert_exporter": "python",
   "pygments_lexer": "ipython3",
   "version": "3.7.4"
  }
 },
 "nbformat": 4,
 "nbformat_minor": 2
}
